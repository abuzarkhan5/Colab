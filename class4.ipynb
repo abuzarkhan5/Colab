{
  "nbformat": 4,
  "nbformat_minor": 0,
  "metadata": {
    "colab": {
      "provenance": [],
      "authorship_tag": "ABX9TyP45mbVoejKRXMa1Ur3WZrZ",
      "include_colab_link": true
    },
    "kernelspec": {
      "name": "python3",
      "display_name": "Python 3"
    },
    "language_info": {
      "name": "python"
    }
  },
  "cells": [
    {
      "cell_type": "markdown",
      "metadata": {
        "id": "view-in-github",
        "colab_type": "text"
      },
      "source": [
        "<a href=\"https://colab.research.google.com/github/abuzarkhan5/Colab/blob/main/class4.ipynb\" target=\"_parent\"><img src=\"https://colab.research.google.com/assets/colab-badge.svg\" alt=\"Open In Colab\"/></a>"
      ]
    },
    {
      "cell_type": "code",
      "execution_count": 1,
      "metadata": {
        "colab": {
          "base_uri": "https://localhost:8080/"
        },
        "id": "54BvW7Wzwzew",
        "outputId": "d4651096-e145-4f8e-edac-4db8016f74c6"
      },
      "outputs": [
        {
          "output_type": "stream",
          "name": "stdout",
          "text": [
            "False\n",
            "True\n",
            "True\n",
            "False\n"
          ]
        }
      ],
      "source": [
        "# comparison operators\n",
        "\n",
        "# 1 == is called equal to\n",
        "# 2 != is called not equal to\n",
        "# 3 > is caled greater than\n",
        "# 4 < is called less than\n",
        "# 5 >= is caled greater than or equal to\n",
        "# 6 <= is called less than or equal to\n",
        "a = 90\n",
        "b = 30\n",
        "print(a == b) # false\n",
        "print(a != b) # true\n",
        "print(a > b)  # true\n",
        "print(a < b) # false\n",
        "\n"
      ]
    },
    {
      "cell_type": "code",
      "source": [
        "# input example\n",
        "name = input(\"What is your name?\")\n",
        "print(\"Hello \" + name)\n",
        "# or\n",
        "name = input(\"What is your name?\")\n",
        "print(\"Hello,\" + name + \"!\")"
      ],
      "metadata": {
        "colab": {
          "base_uri": "https://localhost:8080/"
        },
        "id": "gQxZl7upJs65",
        "outputId": "bfbbf065-03bf-4d79-f656-534c6b4b15a6"
      },
      "execution_count": 2,
      "outputs": [
        {
          "output_type": "stream",
          "name": "stdout",
          "text": [
            "What is your name?Abuzar\n",
            "Hello Abuzar\n",
            "What is your name?Abuzar\n",
            "Hello,Abuzar!\n"
          ]
        }
      ]
    },
    {
      "cell_type": "code",
      "source": [
        "# comparison operator\n",
        "# greater than\n",
        "age_limit = 18\n",
        "my_age = 18\n",
        "my_age > age_limit\n",
        "print(my_age > age_limit)\n",
        "# or\n",
        "my_age = 20\n",
        "print(my_age > 18)\n",
        "# less than or\n",
        "my_age = 14\n",
        "print(my_age < 18)\n",
        "# or\n",
        "my_age = 20\n",
        "print(my_age < 18)\n",
        "# equal to\n",
        "my_age = 14\n",
        "print(my_age == 18)\n",
        "# or\n",
        "my_age = 18\n",
        "print(my_age == 18)\n",
        "my_age = 20\n",
        "print(my_age == 18)\n",
        "#  greater than or equal to\n",
        "my_age = 18\n",
        "print(my_age >= 18)\n",
        "\n"
      ],
      "metadata": {
        "colab": {
          "base_uri": "https://localhost:8080/"
        },
        "id": "0rDe9ifbNDk7",
        "outputId": "b26e1ca8-096d-4852-fded-280a2900f1c6"
      },
      "execution_count": 3,
      "outputs": [
        {
          "output_type": "stream",
          "name": "stdout",
          "text": [
            "False\n",
            "True\n",
            "True\n",
            "False\n",
            "False\n",
            "True\n",
            "False\n",
            "True\n"
          ]
        }
      ]
    },
    {
      "cell_type": "code",
      "source": [
        "#  if, else, elf comparison operator\n",
        "my_age = 28\n",
        "if ( my_age > 18 ):\n",
        "  print(\"You are allowed\")\n",
        "  # or\n",
        "  my_age = 12\n",
        "  if ( my_age > 18):\n",
        "    print(\"You are allowed\")\n",
        "  else:\n",
        "      print(\"You are not allowed\")\n",
        "      # or\n",
        "\n",
        "\n"
      ],
      "metadata": {
        "colab": {
          "base_uri": "https://localhost:8080/"
        },
        "id": "JVV4aNMcSHbi",
        "outputId": "2d200262-aa96-42fd-8b36-6981dd23db39"
      },
      "execution_count": 4,
      "outputs": [
        {
          "output_type": "stream",
          "name": "stdout",
          "text": [
            "You are allowed\n",
            "You are not allowed\n"
          ]
        }
      ]
    },
    {
      "cell_type": "code",
      "source": [
        "# conditional statements\n",
        "age = int(input(\"Enter your age: \"))\n",
        "if ( age < 18) :\n",
        "  print(\"You are a minor (bacha).\")\n",
        "elif ( age == 18 ) :\n",
        "  print(\"You are young person!\")\n",
        "elif ( age > 80 ) :\n",
        "  print(\"You are an old person.\")\n",
        "else:\n",
        "  print(\"You are an adult.\")\n"
      ],
      "metadata": {
        "colab": {
          "base_uri": "https://localhost:8080/"
        },
        "id": "oA5Rq-W4Xi24",
        "outputId": "bd96e732-2908-4b76-ccd2-56442d900cdc"
      },
      "execution_count": 5,
      "outputs": [
        {
          "output_type": "stream",
          "name": "stdout",
          "text": [
            "Enter your age: 21\n",
            "You are an adult.\n"
          ]
        }
      ]
    },
    {
      "cell_type": "code",
      "source": [
        "  # logical operator\n",
        "  age = int(input(\"Enter your age: \"))\n",
        "  weight = int(input(\"Enter your weight: \"))\n",
        "if ( age < 18 or weight <= 50) :\n",
        "   print(\"You are a minor (bacha).\")\n",
        "elif ( age >= 18 and age <= 79) :\n",
        "   print(\"You are young person! \")\n",
        "elif ( age >= 80 and weight <= 80) :\n",
        "   print(\"You can sit.\")\n",
        "else:\n",
        "   print(\"You can not sit on the rollercoaster.\")\n"
      ],
      "metadata": {
        "colab": {
          "base_uri": "https://localhost:8080/"
        },
        "id": "MucT1z3H19sQ",
        "outputId": "63d34503-862a-4589-810f-7ae8c6c27985"
      },
      "execution_count": 6,
      "outputs": [
        {
          "output_type": "stream",
          "name": "stdout",
          "text": [
            "Enter your age: 21\n",
            "Enter your weight: 54\n",
            "You are young person! \n"
          ]
        }
      ]
    },
    {
      "cell_type": "code",
      "source": [
        "# project\n",
        "is_hungry = False\n",
        "burger_lover = True\n",
        "pizza_lover = True\n",
        "if ( is_hungry and (burger_lover or pizza_lover) ):\n",
        "  print(\"Let's order the Food\")\n",
        "elif (is_hungry):\n",
        "  print(\"Let's go to sleep\")\n",
        "else:\n",
        "  print(\"Not Hungry\")\n"
      ],
      "metadata": {
        "id": "ulp0CNIwD3Um",
        "colab": {
          "base_uri": "https://localhost:8080/"
        },
        "outputId": "e356b235-fdd2-4497-f293-d99798a2b2f7"
      },
      "execution_count": 7,
      "outputs": [
        {
          "output_type": "stream",
          "name": "stdout",
          "text": [
            "Not Hungry\n"
          ]
        }
      ]
    },
    {
      "cell_type": "code",
      "source": [
        "print(\"Hi, How are You?.\")"
      ],
      "metadata": {
        "colab": {
          "base_uri": "https://localhost:8080/"
        },
        "id": "bz6_ZgXhv8w3",
        "outputId": "8a6964e0-8a1f-48a3-b17b-38d86f6695f2"
      },
      "execution_count": 8,
      "outputs": [
        {
          "output_type": "stream",
          "name": "stdout",
          "text": [
            "Hi, How are You?.\n"
          ]
        }
      ]
    }
  ]
}
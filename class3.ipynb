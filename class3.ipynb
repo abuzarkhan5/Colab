{
  "nbformat": 4,
  "nbformat_minor": 0,
  "metadata": {
    "colab": {
      "provenance": [],
      "authorship_tag": "ABX9TyOopE6vWSUN0SAgGsYH8cBs",
      "include_colab_link": true
    },
    "kernelspec": {
      "name": "python3",
      "display_name": "Python 3"
    },
    "language_info": {
      "name": "python"
    }
  },
  "cells": [
    {
      "cell_type": "markdown",
      "metadata": {
        "id": "view-in-github",
        "colab_type": "text"
      },
      "source": [
        "<a href=\"https://colab.research.google.com/github/abuzarkhan5/Colab/blob/main/class3.ipynb\" target=\"_parent\"><img src=\"https://colab.research.google.com/assets/colab-badge.svg\" alt=\"Open In Colab\"/></a>"
      ]
    },
    {
      "cell_type": "code",
      "execution_count": null,
      "metadata": {
        "colab": {
          "base_uri": "https://localhost:8080/"
        },
        "id": "jpAor5ZXaruC",
        "outputId": "9caf1c1a-674a-4c08-8528-eae3d34384da"
      },
      "outputs": [
        {
          "output_type": "stream",
          "name": "stdout",
          "text": [
            "Addition: 22\n",
            "Addition: 30\n"
          ]
        }
      ],
      "source": [
        "# Addition\n",
        "item1 = 10\n",
        "item2 = 12\n",
        "result = item1 + item2\n",
        "print(\"Addition:\" , result)\n",
        "num1 = 15\n",
        "num2 = 15\n",
        "result = num1 + num2\n",
        "print(\"Addition:\", result)"
      ]
    },
    {
      "cell_type": "code",
      "source": [
        "# subtraction\n",
        "num1 = 20\n",
        "num2 = 12\n",
        "result = num1 - num2\n",
        "print(\"subtraction:\", result)\n",
        "item1 = 40\n",
        "item2 = 10\n",
        "result = item1 - item2\n",
        "print(\"subtraction:\", result)\n"
      ],
      "metadata": {
        "colab": {
          "base_uri": "https://localhost:8080/"
        },
        "id": "rIWiLV6IdM6i",
        "outputId": "27e7f28f-ab9e-4026-d97f-1e9d4eb65b66"
      },
      "execution_count": null,
      "outputs": [
        {
          "output_type": "stream",
          "name": "stdout",
          "text": [
            "subtraction: 8\n",
            "subtraction: 8\n",
            "subtraction: 8\n",
            "subtraction: 30\n"
          ]
        }
      ]
    },
    {
      "cell_type": "code",
      "source": [
        "# Multiplication\n",
        "num1 = 5\n",
        "num2 = 3\n",
        "result = num1 * num2\n",
        "print(\"Multiplication:\", result)\n",
        "item1 = 10\n",
        "item2 = 5\n",
        "result = item1 * item2\n",
        "print(\"Multiplication:\", result)"
      ],
      "metadata": {
        "colab": {
          "base_uri": "https://localhost:8080/"
        },
        "id": "H7oVFqy_f5Sj",
        "outputId": "5b554923-7ce8-4577-e32e-67e8a03dda9b"
      },
      "execution_count": null,
      "outputs": [
        {
          "output_type": "stream",
          "name": "stdout",
          "text": [
            "Multiplication: 15\n",
            "Multiplication: 50\n"
          ]
        }
      ]
    },
    {
      "cell_type": "code",
      "source": [
        "# Division\n",
        "num1 = 20\n",
        "num2 = 2\n",
        "result = num1 / num2\n",
        "print(\"Division:\", result)\n",
        "item1 = 50\n",
        "item2 = 8\n",
        "result = item1 / item2\n",
        "print(\"Division:\", result)"
      ],
      "metadata": {
        "colab": {
          "base_uri": "https://localhost:8080/"
        },
        "id": "aqHdlG6wgtU7",
        "outputId": "350b4c97-a429-428b-ce36-626d037bfe30"
      },
      "execution_count": null,
      "outputs": [
        {
          "output_type": "stream",
          "name": "stdout",
          "text": [
            "Division: 10.0\n",
            "Division: 6.25\n"
          ]
        }
      ]
    },
    {
      "cell_type": "code",
      "source": [
        "# Modulus\n",
        "a = 10\n",
        "b = 3\n",
        "result = a % b # return the reminder of the division\n",
        "print(\"Modulus:\", result)  # output is = 1\n",
        "# Modulus = 1\n",
        "# exponent\n",
        "num1 = 5\n",
        "print(num1 ** 2)  # 5*5 = 25\n",
        "# Assignment\n",
        "faculty = 12\n",
        "admin = 4\n",
        "student = 100\n",
        "total_members = faculty + admin + student\n",
        "print(f\"total members is pic {total_members}\")\n",
        "absent = 15\n",
        "total_present_members = total_members - absent\n",
        "print(f\"total present members: {total_present_members}\")\n",
        "total_present_members = 101\n",
        "per_person_rabri = 250\n",
        "total_rabri_gram = total_present_members * per_person_rabri\n",
        "print(f\"total rabri in gram: {total_rabri_gram} g\")\n",
        "total_rabri_gram = total_present_members * per_person_rabri\n",
        "print(f\"total rabri in kg: {total_rabri_gram / 1000} kg\")\n",
        "print(f\"total rabri in kg: {total_rabri_gram // 1000} kg\")"
      ],
      "metadata": {
        "id": "nRSwS8yBhtRX",
        "colab": {
          "base_uri": "https://localhost:8080/"
        },
        "outputId": "bb09d927-0221-48b0-f325-a7f6509bdfda"
      },
      "execution_count": null,
      "outputs": [
        {
          "output_type": "stream",
          "name": "stdout",
          "text": [
            "Modulus: 1\n",
            "25\n",
            "total members is pic 116\n",
            "total present members: 101\n",
            "total rabri in gram: 25250 g\n",
            "total rabri in kg: 25.25 kg\n",
            "total rabri in kg: 25 kg\n"
          ]
        }
      ]
    }
  ]
}
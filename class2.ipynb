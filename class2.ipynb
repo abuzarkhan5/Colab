{
  "nbformat": 4,
  "nbformat_minor": 0,
  "metadata": {
    "colab": {
      "provenance": [],
      "authorship_tag": "ABX9TyOedwkO7Gt7CjMc0OK3Kxxb",
      "include_colab_link": true
    },
    "kernelspec": {
      "name": "python3",
      "display_name": "Python 3"
    },
    "language_info": {
      "name": "python"
    }
  },
  "cells": [
    {
      "cell_type": "markdown",
      "metadata": {
        "id": "view-in-github",
        "colab_type": "text"
      },
      "source": [
        "<a href=\"https://colab.research.google.com/github/abuzarkhan5/Colab/blob/main/class2.ipynb\" target=\"_parent\"><img src=\"https://colab.research.google.com/assets/colab-badge.svg\" alt=\"Open In Colab\"/></a>"
      ]
    },
    {
      "cell_type": "code",
      "execution_count": 2,
      "metadata": {
        "colab": {
          "base_uri": "https://localhost:8080/"
        },
        "id": "c-NClBGrL7AY",
        "outputId": "5ba9b810-32c9-4620-f090-9c7f4b9644a1"
      },
      "outputs": [
        {
          "output_type": "stream",
          "name": "stdout",
          "text": [
            "True\n",
            "<class 'bool'>\n",
            "False\n",
            "<class 'bool'>\n",
            "6.66\n",
            "10\n",
            "Hi Abuzar!\n",
            "Hello world!\n",
            "<class 'str'>\n",
            "<class 'str'>\n",
            "<class 'int'>\n",
            "<class 'float'>\n"
          ]
        }
      ],
      "source": [
        "a = \"Hello world!\" # string type\n",
        "b = \"Hi Abuzar!\" # string type\n",
        "c = 1+9 # integer\n",
        "d = 3.33+3.33 # float\n",
        "# boolean\n",
        "loggedin = True\n",
        "loggedof = False\n",
        "print(loggedin)\n",
        "print(type(loggedin))\n",
        "print(loggedof)\n",
        "print(type(loggedof))\n",
        "print(d)\n",
        "print(c)\n",
        "print(b)\n",
        "print(a)\n",
        "print(type(a))\n",
        "print(type(b))\n",
        "print(type(c))\n",
        "print(type(d))\n"
      ]
    },
    {
      "cell_type": "code",
      "source": [
        "# concatenation\n",
        "sentence = (\"My Nmae is Abuzar Waqas and my friend name is \")\n",
        "name = (\"Imran\")\n",
        "print(sentence + name)\n",
        "# or f string\n",
        "print(f\"My Nmae is Abuzar Waqas and my friend name is {name}\")"
      ],
      "metadata": {
        "colab": {
          "base_uri": "https://localhost:8080/"
        },
        "id": "yGCKkZpFSTsV",
        "outputId": "6322f3d5-9707-4251-bf11-5b42c2629b45"
      },
      "execution_count": 3,
      "outputs": [
        {
          "output_type": "stream",
          "name": "stdout",
          "text": [
            "My Nmae is Abuzar Waqas and my friend name is Imran\n",
            "My Nmae is Abuzar Waqas and my friend name is Imran\n"
          ]
        }
      ]
    },
    {
      "cell_type": "code",
      "source": [
        "# dog string\n",
        "# paragraph print in one line.\n",
        "paragraph = \"My name is Abuzar Waqas. My friend name is Imran. \"\n",
        "print(paragraph)\n",
        "# print paragraph in 3 or 4 line printing for email.\n",
        "first_name = \"My name is Abuzar Waqas\"\n",
        "print(\n",
        "    f'''\n",
        "    Hi {first_name} ,\n",
        "    My friend name is Imran. He is from Karachi.\n",
        "\n",
        "\n",
        "    '''\n",
        ")"
      ],
      "metadata": {
        "colab": {
          "base_uri": "https://localhost:8080/"
        },
        "id": "JM9l9tTQXAw3",
        "outputId": "2b779ea0-fa26-4743-9675-7d07de33766b"
      },
      "execution_count": 6,
      "outputs": [
        {
          "output_type": "stream",
          "name": "stdout",
          "text": [
            "My name is Abuzar Waqas. My friend name is Imran. \n",
            "\n",
            "    Hi My name is Abuzar Waqas ,\n",
            "    My friend name is Imran. He is from Karachi. \n",
            "    \n",
            "    \n",
            "    \n"
          ]
        }
      ]
    }
  ]
}
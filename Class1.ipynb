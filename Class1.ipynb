{
  "nbformat": 4,
  "nbformat_minor": 0,
  "metadata": {
    "colab": {
      "provenance": [],
      "authorship_tag": "ABX9TyNRmjJ8xcnMsSASKTMmnB9C",
      "include_colab_link": true
    },
    "kernelspec": {
      "name": "python3",
      "display_name": "Python 3"
    },
    "language_info": {
      "name": "python"
    }
  },
  "cells": [
    {
      "cell_type": "markdown",
      "metadata": {
        "id": "view-in-github",
        "colab_type": "text"
      },
      "source": [
        "<a href=\"https://colab.research.google.com/github/abuzarkhan5/Colab/blob/main/Class1.ipynb\" target=\"_parent\"><img src=\"https://colab.research.google.com/assets/colab-badge.svg\" alt=\"Open In Colab\"/></a>"
      ]
    },
    {
      "cell_type": "code",
      "execution_count": 1,
      "metadata": {
        "colab": {
          "base_uri": "https://localhost:8080/"
        },
        "id": "sWB7HGMMqnWq",
        "outputId": "f5d15d68-cf37-4d2e-acc7-54dd641e3520"
      },
      "outputs": [
        {
          "output_type": "stream",
          "name": "stdout",
          "text": [
            "Hi Abuzar!\n",
            "Hi Waqas! How are You? \n"
          ]
        }
      ],
      "source": [
        "print(\"Hi Abuzar!\")\n",
        "print(\"Hi Waqas! How are You? \")"
      ]
    },
    {
      "cell_type": "code",
      "source": [
        "# prompt: generate a code for calculater\n",
        "\n",
        "def calculator():\n",
        "    \"\"\"Performs basic arithmetic operations.\"\"\"\n",
        "\n",
        "    while True:\n",
        "        try:\n",
        "            num1 = float(input(\"Enter first number: \"))\n",
        "            op = input(\"Enter operator (+, -, *, /): \")\n",
        "            num2 = float(input(\"Enter second number: \"))\n",
        "\n",
        "            if op == \"+\":\n",
        "                result = num1 + num2\n",
        "            elif op == \"-\":\n",
        "                result = num1 - num2\n",
        "            elif op == \"*\":\n",
        "                result = num1 * num2\n",
        "            elif op == \"/\":\n",
        "                if num2 == 0:\n",
        "                    print(\"Error: Division by zero\")\n",
        "                    continue  # Go back to the beginning of the loop\n",
        "                result = num1 / num2\n",
        "            else:\n",
        "                print(\"Invalid operator\")\n",
        "                continue  # Go back to the beginning of the loop\n",
        "\n",
        "            print(f\"Result: {result}\")\n",
        "            break  # Exit the loop if the calculation is successful\n",
        "\n",
        "        except ValueError:\n",
        "            print(\"Invalid input. Please enter numbers only.\")\n",
        "\n",
        "# Example usage\n",
        "calculator()"
      ],
      "metadata": {
        "colab": {
          "base_uri": "https://localhost:8080/"
        },
        "id": "NOTKGhm3v4fG",
        "outputId": "81a3404b-923a-462e-ecc9-06d6bf3fd909"
      },
      "execution_count": null,
      "outputs": [
        {
          "output_type": "stream",
          "name": "stdout",
          "text": [
            "Enter first number: 60\n",
            "Enter operator (+, -, *, /): +\n",
            "Enter second number: 40\n",
            "Result: 100.0\n"
          ]
        }
      ]
    },
    {
      "cell_type": "code",
      "source": [
        "# prompt: generate a code for i wanna wish birthday to my crush with heart emoji and beautiful  flower\n",
        "\n",
        "print(\"Happy Birthday, my friend! ❤️\")\n",
        "print(\"Wishing you a day filled with joy, laughter, and beautiful flowers 💐\")"
      ],
      "metadata": {
        "colab": {
          "base_uri": "https://localhost:8080/"
        },
        "id": "UurzTlQqxmiD",
        "outputId": "58720558-582d-4e90-f49a-24382ab5df9c"
      },
      "execution_count": 2,
      "outputs": [
        {
          "output_type": "stream",
          "name": "stdout",
          "text": [
            "Happy Birthday, my friend! ❤️\n",
            "Wishing you a day filled with joy, laughter, and beautiful flowers 💐\n"
          ]
        }
      ]
    },
    {
      "cell_type": "code",
      "source": [
        "fav_celebrity = \"Imran Khan\"\n",
        "print(fav_celebrity)\n",
        "print(\"Hi Abuzar \")"
      ],
      "metadata": {
        "colab": {
          "base_uri": "https://localhost:8080/"
        },
        "id": "nm-a6xwOWh6C",
        "outputId": "f15cf663-aaed-44e9-f9a7-67338341f967"
      },
      "execution_count": 3,
      "outputs": [
        {
          "output_type": "stream",
          "name": "stdout",
          "text": [
            "Imran Khan\n",
            "Hi Abuzar \n"
          ]
        }
      ]
    },
    {
      "cell_type": "code",
      "source": [
        "fav_celebrity = \"Imran Khan\"\n",
        "fav_game = \"GTA 6\"\n",
        "fav_food = \"biryani\"\n",
        "fav_politcian = \"Imran Khan\"\n",
        "print(fav_politcian)\n",
        "print(fav_celebrity)\n",
        "print(fav_food)\n",
        "print(fav_game)"
      ],
      "metadata": {
        "colab": {
          "base_uri": "https://localhost:8080/"
        },
        "id": "zbJAfvhSY0vf",
        "outputId": "cb85ead8-fffa-4cdf-dd65-a08d03cfc64d"
      },
      "execution_count": 4,
      "outputs": [
        {
          "output_type": "stream",
          "name": "stdout",
          "text": [
            "Imran Khan\n",
            "Imran Khan\n",
            "biryani\n",
            "GTA 6\n"
          ]
        }
      ]
    }
  ]
}
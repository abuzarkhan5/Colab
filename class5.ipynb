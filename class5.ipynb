{
  "nbformat": 4,
  "nbformat_minor": 0,
  "metadata": {
    "colab": {
      "provenance": [],
      "authorship_tag": "ABX9TyNBk23UqyCVUqSMfsXAkeZo",
      "include_colab_link": true
    },
    "kernelspec": {
      "name": "python3",
      "display_name": "Python 3"
    },
    "language_info": {
      "name": "python"
    }
  },
  "cells": [
    {
      "cell_type": "markdown",
      "metadata": {
        "id": "view-in-github",
        "colab_type": "text"
      },
      "source": [
        "<a href=\"https://colab.research.google.com/github/abuzarkhan5/Colab/blob/main/class5.ipynb\" target=\"_parent\"><img src=\"https://colab.research.google.com/assets/colab-badge.svg\" alt=\"Open In Colab\"/></a>"
      ]
    },
    {
      "cell_type": "code",
      "execution_count": 1,
      "metadata": {
        "colab": {
          "base_uri": "https://localhost:8080/"
        },
        "id": "lFoQ3MNs85oT",
        "outputId": "5ff108be-22e2-4fde-c074-d08f1dcba81c"
      },
      "outputs": [
        {
          "output_type": "stream",
          "name": "stdout",
          "text": [
            "['Cake', 'Eggs', 'Juice', 'Chips', 'Bread']\n",
            "['Teach a class', 'Finish project', 'Dinner', 'Sleep']\n"
          ]
        }
      ],
      "source": [
        "# Why List are Important\n",
        "# List\n",
        "# from typing import List, string\n",
        "# shopping List\n",
        "item_1 : str = \"Cake\"\n",
        "item_2 : str = \"Eggs\"\n",
        "item_3 : str = \"Juice\"\n",
        "item_4 : str = \"Chips\"\n",
        "item_5 : str = \"Bread\"\n",
        "# print(item_1, item_2)\n",
        "shopping_items : list[str] = [\"Cake\", \"Eggs\", \"Juice\", \"Chips\", \"Bread\"]\n",
        "print(shopping_items)\n",
        "# list exaple 2\n",
        "tasks : list[str] = [\"Teach a class\", \"Finish project\", \"Dinner\", \"Sleep\"]\n",
        "print(tasks)"
      ]
    },
    {
      "cell_type": "code",
      "source": [
        "# list Index\n",
        "\n",
        "shopping_items : list[str] = [\"Cake\", \"Eggs\", \"Juice\", \"Chips\", \"Bread\"]\n",
        "#                           [   0  ,     1    ,  2   ,    3   ,   4  ]\n",
        "print(shopping_items[2])\n",
        "print(shopping_items[3])"
      ],
      "metadata": {
        "id": "bz_RxlXs_G8L",
        "colab": {
          "base_uri": "https://localhost:8080/"
        },
        "outputId": "45021064-e92f-45ab-be78-0e023bcacfe8"
      },
      "execution_count": 2,
      "outputs": [
        {
          "output_type": "stream",
          "name": "stdout",
          "text": [
            "Juice\n",
            "Chips\n"
          ]
        }
      ]
    },
    {
      "cell_type": "code",
      "source": [
        "# List Length\n",
        "# find the length of the list\n",
        "shopping_items : list[str] = [\"Cake\", \"Eggs\", \"Juice\", \"Chips\", \"Bread\"]\n",
        "print(len(shopping_items))\n"
      ],
      "metadata": {
        "colab": {
          "base_uri": "https://localhost:8080/"
        },
        "id": "kY3pwLaC_sli",
        "outputId": "ef5689eb-a717-4bb6-c99d-1b9f216bdce0"
      },
      "execution_count": 3,
      "outputs": [
        {
          "output_type": "stream",
          "name": "stdout",
          "text": [
            "5\n"
          ]
        }
      ]
    },
    {
      "cell_type": "code",
      "source": [
        "# List Slicing\n",
        "# slice the oil from the list\n",
        "shopping_items : list[str] = [\"Cake\", \"Eggs\", \"Juice\", \"Chips\", \"Bread\", \"Oil\"]\n",
        "print(shopping_items[0:5])"
      ],
      "metadata": {
        "colab": {
          "base_uri": "https://localhost:8080/"
        },
        "id": "iYBXt_mhB8JP",
        "outputId": "d029bc23-9edb-4124-9f04-0f9d201254be"
      },
      "execution_count": 4,
      "outputs": [
        {
          "output_type": "stream",
          "name": "stdout",
          "text": [
            "['Cake', 'Eggs', 'Juice', 'Chips', 'Bread']\n"
          ]
        }
      ]
    },
    {
      "cell_type": "code",
      "source": [
        "# Checking Membership\n",
        "#\n",
        "shopping_items : list[str] = [\"Cake\", \"Eggs\", \"Juice\", \"Chips\", \"Bread\", \"Oil\"]\n",
        "print(\"Oil\" in shopping_items) # output True\n",
        "print(\"Eggs\" in shopping_items)\n",
        "print(\"Flour\" in shopping_items)"
      ],
      "metadata": {
        "colab": {
          "base_uri": "https://localhost:8080/"
        },
        "id": "VlObwwCNDzlM",
        "outputId": "3cc0f7e1-5589-49be-f4bc-ae58d5842a63"
      },
      "execution_count": 5,
      "outputs": [
        {
          "output_type": "stream",
          "name": "stdout",
          "text": [
            "True\n",
            "True\n",
            "False\n"
          ]
        }
      ]
    },
    {
      "cell_type": "code",
      "source": [
        "# Adding or Removing Items from the  List\n",
        "shopping_items : list[str] = [\"Cake\", \"Eggs\", \"Juice\", \"Chips\", \"Bread\", \"Oil\"]\n",
        "print(shopping_items)\n",
        "#Append item flour from the list\n",
        "shopping_items.append(\"Flour\")\n",
        "print(shopping_items)\n",
        "# Removing item flour from the list\n",
        "shopping_items.remove(\"Flour\")\n",
        "print(shopping_items)"
      ],
      "metadata": {
        "colab": {
          "base_uri": "https://localhost:8080/"
        },
        "id": "Zh8znUj6FIPc",
        "outputId": "152b8b03-1fd4-44ab-eeaf-f6675dadbb56"
      },
      "execution_count": 6,
      "outputs": [
        {
          "output_type": "stream",
          "name": "stdout",
          "text": [
            "['Cake', 'Eggs', 'Juice', 'Chips', 'Bread', 'Oil']\n",
            "['Cake', 'Eggs', 'Juice', 'Chips', 'Bread', 'Oil', 'Flour']\n",
            "['Cake', 'Eggs', 'Juice', 'Chips', 'Bread', 'Oil']\n"
          ]
        }
      ]
    },
    {
      "cell_type": "code",
      "source": [
        "# Inserting and Removing item in list\n",
        "\n",
        "shopping_items : list[str] = [\"Cake\", \"Eggs\", \"Juice\", \"Chips\", \"Bread\", \"Oil\"]\n",
        "#                            [  1   ,   2   ,    3   ,    4   ,    5   ,   6]\n",
        "print(shopping_items)\n",
        "# Inserting item in list\n",
        "shopping_items.insert(4, \"Tea\")\n",
        "print(shopping_items)\n",
        "# remove item in list\n",
        "shopping_items.pop(3)\n",
        "print(shopping_items)\n",
        "print(\"After popping\", shopping_items)"
      ],
      "metadata": {
        "id": "S6wtp124usfo",
        "outputId": "15f67894-19e2-4564-ecf2-b7ebb1f50ae4",
        "colab": {
          "base_uri": "https://localhost:8080/"
        }
      },
      "execution_count": 7,
      "outputs": [
        {
          "output_type": "stream",
          "name": "stdout",
          "text": [
            "['Cake', 'Eggs', 'Juice', 'Chips', 'Bread', 'Oil']\n",
            "['Cake', 'Eggs', 'Juice', 'Chips', 'Tea', 'Bread', 'Oil']\n",
            "['Cake', 'Eggs', 'Juice', 'Tea', 'Bread', 'Oil']\n",
            "After popping ['Cake', 'Eggs', 'Juice', 'Tea', 'Bread', 'Oil']\n"
          ]
        }
      ]
    }
  ]
}